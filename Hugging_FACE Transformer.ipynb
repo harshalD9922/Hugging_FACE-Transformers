{
 "cells": [
  {
   "cell_type": "markdown",
   "metadata": {},
   "source": [
    "# predicting  Masks"
   ]
  },
  {
   "cell_type": "code",
   "execution_count": null,
   "metadata": {},
   "outputs": [],
   "source": [
    "from transformers import pipeline"
   ]
  },
  {
   "cell_type": "code",
   "execution_count": 3,
   "metadata": {},
   "outputs": [
    {
     "data": {
      "application/vnd.jupyter.widget-view+json": {
       "model_id": "4f68ce62a94d46f08352b370776d1346",
       "version_major": 2,
       "version_minor": 0
      },
      "text/plain": [
       "HBox(children=(HTML(value='Downloading'), FloatProgress(value=0.0, max=480.0), HTML(value='')))"
      ]
     },
     "metadata": {},
     "output_type": "display_data"
    },
    {
     "name": "stdout",
     "output_type": "stream",
     "text": [
      "\n"
     ]
    },
    {
     "data": {
      "application/vnd.jupyter.widget-view+json": {
       "model_id": "b6e18b60ecbb4a35a68571be34e6ef15",
       "version_major": 2,
       "version_minor": 0
      },
      "text/plain": [
       "HBox(children=(HTML(value='Downloading'), FloatProgress(value=0.0, max=331070498.0), HTML(value='')))"
      ]
     },
     "metadata": {},
     "output_type": "display_data"
    },
    {
     "name": "stdout",
     "output_type": "stream",
     "text": [
      "\n"
     ]
    },
    {
     "data": {
      "application/vnd.jupyter.widget-view+json": {
       "model_id": "04e8d044cd8049799f46da42f723e28c",
       "version_major": 2,
       "version_minor": 0
      },
      "text/plain": [
       "HBox(children=(HTML(value='Downloading'), FloatProgress(value=0.0, max=898823.0), HTML(value='')))"
      ]
     },
     "metadata": {},
     "output_type": "display_data"
    },
    {
     "name": "stdout",
     "output_type": "stream",
     "text": [
      "\n"
     ]
    },
    {
     "data": {
      "application/vnd.jupyter.widget-view+json": {
       "model_id": "da4efc1e1be643e09a63033bf4f0e431",
       "version_major": 2,
       "version_minor": 0
      },
      "text/plain": [
       "HBox(children=(HTML(value='Downloading'), FloatProgress(value=0.0, max=456318.0), HTML(value='')))"
      ]
     },
     "metadata": {},
     "output_type": "display_data"
    },
    {
     "name": "stdout",
     "output_type": "stream",
     "text": [
      "\n"
     ]
    },
    {
     "data": {
      "application/vnd.jupyter.widget-view+json": {
       "model_id": "ed5188beda154e7db3e97acd8e395eed",
       "version_major": 2,
       "version_minor": 0
      },
      "text/plain": [
       "HBox(children=(HTML(value='Downloading'), FloatProgress(value=0.0, max=1355863.0), HTML(value='')))"
      ]
     },
     "metadata": {},
     "output_type": "display_data"
    },
    {
     "name": "stdout",
     "output_type": "stream",
     "text": [
      "\n"
     ]
    },
    {
     "data": {
      "text/plain": [
       "[{'sequence': 'woh ki seekh rahi hai',\n",
       "  'score': 0.0566813200712204,\n",
       "  'token': 27651,\n",
       "  'token_str': ' ki'},\n",
       " {'sequence': 'woh ke seekh rahi hai',\n",
       "  'score': 0.04333152621984482,\n",
       "  'token': 7321,\n",
       "  'token_str': ' ke'},\n",
       " {'sequence': 'woh aur seekh rahi hai',\n",
       "  'score': 0.024591568857431412,\n",
       "  'token': 36032,\n",
       "  'token_str': ' aur'},\n",
       " {'sequence': 'woh hi seekh rahi hai',\n",
       "  'score': 0.024278799071907997,\n",
       "  'token': 20280,\n",
       "  'token_str': ' hi'},\n",
       " {'sequence': 'woh ka seekh rahi hai',\n",
       "  'score': 0.02144814468920231,\n",
       "  'token': 4661,\n",
       "  'token_str': ' ka'}]"
      ]
     },
     "execution_count": 3,
     "metadata": {},
     "output_type": "execute_result"
    }
   ],
   "source": [
    "nlp=pipeline('fill-mask')\n",
    "nlp('woh <mask> seekh rahi hai')"
   ]
  },
  {
   "cell_type": "code",
   "execution_count": 4,
   "metadata": {},
   "outputs": [
    {
     "data": {
      "text/plain": [
       "[{'sequence': 'Hum sikh raha hai',\n",
       "  'score': 0.02864786423742771,\n",
       "  'token': 40022,\n",
       "  'token_str': 'Hum'},\n",
       " {'sequence': 'i sikh raha hai',\n",
       "  'score': 0.018073616549372673,\n",
       "  'token': 118,\n",
       "  'token_str': 'i'},\n",
       " {'sequence': 'Ke sikh raha hai',\n",
       "  'score': 0.014439132995903492,\n",
       "  'token': 19226,\n",
       "  'token_str': 'Ke'},\n",
       " {'sequence': 'Na sikh raha hai',\n",
       "  'score': 0.0123855359852314,\n",
       "  'token': 30612,\n",
       "  'token_str': 'Na'},\n",
       " {'sequence': ' aur sikh raha hai',\n",
       "  'score': 0.012161635793745518,\n",
       "  'token': 36032,\n",
       "  'token_str': ' aur'}]"
      ]
     },
     "execution_count": 4,
     "metadata": {},
     "output_type": "execute_result"
    }
   ],
   "source": [
    "nlp('<mask> sikh raha hai')"
   ]
  },
  {
   "cell_type": "code",
   "execution_count": 5,
   "metadata": {},
   "outputs": [
    {
     "data": {
      "text/plain": [
       "[{'sequence': 'This is a bad',\n",
       "  'score': 0.023079542443156242,\n",
       "  'token': 713,\n",
       "  'token_str': 'This'},\n",
       " {'sequence': 'Which is a bad',\n",
       "  'score': 0.013807788491249084,\n",
       "  'token': 32251,\n",
       "  'token_str': 'Which'},\n",
       " {'sequence': 'Twitter is a bad',\n",
       "  'score': 0.008692178875207901,\n",
       "  'token': 22838,\n",
       "  'token_str': 'Twitter'},\n",
       " {'sequence': 'What is a bad',\n",
       "  'score': 0.008280253037810326,\n",
       "  'token': 2264,\n",
       "  'token_str': 'What'},\n",
       " {'sequence': 'Facebook is a bad',\n",
       "  'score': 0.006209061946719885,\n",
       "  'token': 18064,\n",
       "  'token_str': 'Facebook'}]"
      ]
     },
     "execution_count": 5,
     "metadata": {},
     "output_type": "execute_result"
    }
   ],
   "source": [
    "nlp('<mask> is a bad')"
   ]
  },
  {
   "cell_type": "markdown",
   "metadata": {},
   "source": [
    "# question answering "
   ]
  },
  {
   "cell_type": "code",
   "execution_count": 9,
   "metadata": {},
   "outputs": [
    {
     "data": {
      "application/vnd.jupyter.widget-view+json": {
       "model_id": "18bb075f3ca84513b7310a43da4b6033",
       "version_major": 2,
       "version_minor": 0
      },
      "text/plain": [
       "HBox(children=(HTML(value='Downloading'), FloatProgress(value=0.0, max=260793700.0), HTML(value='')))"
      ]
     },
     "metadata": {},
     "output_type": "display_data"
    },
    {
     "name": "stdout",
     "output_type": "stream",
     "text": [
      "\n"
     ]
    },
    {
     "data": {
      "application/vnd.jupyter.widget-view+json": {
       "model_id": "463f4d1565dc48a99544b857e342a445",
       "version_major": 2,
       "version_minor": 0
      },
      "text/plain": [
       "HBox(children=(HTML(value='Downloading'), FloatProgress(value=0.0, max=213450.0), HTML(value='')))"
      ]
     },
     "metadata": {},
     "output_type": "display_data"
    },
    {
     "name": "stdout",
     "output_type": "stream",
     "text": [
      "\n"
     ]
    },
    {
     "data": {
      "application/vnd.jupyter.widget-view+json": {
       "model_id": "ce75bff5ab2a4fe093b3b0187395e3b9",
       "version_major": 2,
       "version_minor": 0
      },
      "text/plain": [
       "HBox(children=(HTML(value='Downloading'), FloatProgress(value=0.0, max=435797.0), HTML(value='')))"
      ]
     },
     "metadata": {},
     "output_type": "display_data"
    },
    {
     "name": "stdout",
     "output_type": "stream",
     "text": [
      "\n"
     ]
    },
    {
     "data": {
      "application/vnd.jupyter.widget-view+json": {
       "model_id": "77343eb2837742ff981e78c5f5034597",
       "version_major": 2,
       "version_minor": 0
      },
      "text/plain": [
       "HBox(children=(HTML(value='Downloading'), FloatProgress(value=0.0, max=29.0), HTML(value='')))"
      ]
     },
     "metadata": {},
     "output_type": "display_data"
    },
    {
     "name": "stdout",
     "output_type": "stream",
     "text": [
      "\n"
     ]
    },
    {
     "data": {
      "text/plain": [
       "{'score': 0.9863073229789734, 'start': 11, 'end': 18, 'answer': 'harshal'}"
      ]
     },
     "execution_count": 9,
     "metadata": {},
     "output_type": "execute_result"
    }
   ],
   "source": [
    "nlp=pipeline('question-answering')\n",
    "nlp({\n",
    "    'question': 'what is my name ?',\n",
    "    'context': 'My name is harshal , i am working as a student'\n",
    "})"
   ]
  },
  {
   "cell_type": "code",
   "execution_count": 28,
   "metadata": {},
   "outputs": [
    {
     "data": {
      "text/plain": [
       "{'score': 0.6141427755355835, 'start': 0, 'end': 1, 'answer': 'B'}"
      ]
     },
     "execution_count": 28,
     "metadata": {},
     "output_type": "execute_result"
    }
   ],
   "source": [
    "nlp=pipeline('question-answering')\n",
    "nlp({\n",
    "    \n",
    "    'question': 'which letter comes after A ?',\n",
    "    'context': 'B letter comes after A'\n",
    "})"
   ]
  },
  {
   "cell_type": "code",
   "execution_count": 29,
   "metadata": {},
   "outputs": [
    {
     "data": {
      "text/plain": [
       "{'score': 0.9992088079452515, 'start': 0, 'end': 5, 'answer': 'alice'}"
      ]
     },
     "execution_count": 29,
     "metadata": {},
     "output_type": "execute_result"
    }
   ],
   "source": [
    "nlp({\n",
    "    'question':'what is his dog name ?',\n",
    "    'context':'alice is his dog name'\n",
    "})"
   ]
  },
  {
   "cell_type": "markdown",
   "metadata": {},
   "source": [
    "# sentiment Analysis "
   ]
  },
  {
   "cell_type": "code",
   "execution_count": 17,
   "metadata": {},
   "outputs": [
    {
     "data": {
      "text/plain": [
       "[{'label': 'POSITIVE', 'score': 0.9997451305389404}]"
      ]
     },
     "execution_count": 17,
     "metadata": {},
     "output_type": "execute_result"
    }
   ],
   "source": [
    "nlp=pipeline('sentiment-analysis')\n",
    "nlp(\"it is very good way to explain maths concept\")"
   ]
  },
  {
   "cell_type": "code",
   "execution_count": 18,
   "metadata": {},
   "outputs": [
    {
     "data": {
      "text/plain": [
       "[{'label': 'POSITIVE', 'score': 0.9998357892036438}]"
      ]
     },
     "execution_count": 18,
     "metadata": {},
     "output_type": "execute_result"
    }
   ],
   "source": [
    "nlp('good job')"
   ]
  },
  {
   "cell_type": "code",
   "execution_count": 19,
   "metadata": {},
   "outputs": [
    {
     "data": {
      "text/plain": [
       "[{'label': 'NEGATIVE', 'score': 0.9997308850288391}]"
      ]
     },
     "execution_count": 19,
     "metadata": {},
     "output_type": "execute_result"
    }
   ],
   "source": [
    "nlp('I know that boy is very bad')"
   ]
  },
  {
   "cell_type": "code",
   "execution_count": 20,
   "metadata": {},
   "outputs": [
    {
     "data": {
      "text/plain": [
       "[{'label': 'NEGATIVE', 'score': 0.9995584487915039}]"
      ]
     },
     "execution_count": 20,
     "metadata": {},
     "output_type": "execute_result"
    }
   ],
   "source": [
    "nlp('it is a worst case time complexity')"
   ]
  }
 ],
 "metadata": {
  "kernelspec": {
   "display_name": "Python 3",
   "language": "python",
   "name": "python3"
  },
  "language_info": {
   "codemirror_mode": {
    "name": "ipython",
    "version": 3
   },
   "file_extension": ".py",
   "mimetype": "text/x-python",
   "name": "python",
   "nbconvert_exporter": "python",
   "pygments_lexer": "ipython3",
   "version": "3.8.5"
  }
 },
 "nbformat": 4,
 "nbformat_minor": 4
}
